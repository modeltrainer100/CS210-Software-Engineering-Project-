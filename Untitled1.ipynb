{
  "cells": [
    {
      "cell_type": "code",
      "execution_count": 2,
      "metadata": {
        "id": "e5oMsWZZZRZl"
      },
      "outputs": [],
      "source": [
        "import pandas as pd\n",
        "from sklearn.model_selection import train_test_split\n",
        "from sklearn.ensemble import RandomForestClassifier\n",
        "from sklearn.metrics import accuracy_score\n",
        "from sklearn.impute import SimpleImputer\n",
        "import xgboost\n",
        "import lightgbm\n",
        "from lightgbm import LGBMClassifier\n",
        "from xgboost import XGBClassifier\n",
        "from sklearn.pipeline import Pipeline\n",
        "from sklearn.compose import ColumnTransformer"
      ]
    },
    {
      "cell_type": "code",
      "execution_count": 3,
      "metadata": {
        "id": "2wMMhD0LaB5f"
      },
      "outputs": [],
      "source": [
        "df = pd.read_csv(\"dataset.csv\")"
      ]
    },
    {
      "cell_type": "code",
      "execution_count": 4,
      "metadata": {
        "colab": {
          "base_uri": "https://localhost:8080/",
          "height": 206
        },
        "id": "BCInU1YyfgTW",
        "outputId": "4bb6fdec-a244-44db-b750-2b83a4546203"
      },
      "outputs": [
        {
          "data": {
            "text/html": [
              "<div>\n",
              "<style scoped>\n",
              "    .dataframe tbody tr th:only-of-type {\n",
              "        vertical-align: middle;\n",
              "    }\n",
              "\n",
              "    .dataframe tbody tr th {\n",
              "        vertical-align: top;\n",
              "    }\n",
              "\n",
              "    .dataframe thead th {\n",
              "        text-align: right;\n",
              "    }\n",
              "</style>\n",
              "<table border=\"1\" class=\"dataframe\">\n",
              "  <thead>\n",
              "    <tr style=\"text-align: right;\">\n",
              "      <th></th>\n",
              "      <th>Temparature</th>\n",
              "      <th>Humidity</th>\n",
              "      <th>Moisture</th>\n",
              "      <th>Soil Type</th>\n",
              "      <th>Crop Type</th>\n",
              "      <th>Nitrogen</th>\n",
              "      <th>Potassium</th>\n",
              "      <th>Phosphorous</th>\n",
              "      <th>Fertilizer Name</th>\n",
              "    </tr>\n",
              "  </thead>\n",
              "  <tbody>\n",
              "    <tr>\n",
              "      <th>0</th>\n",
              "      <td>33</td>\n",
              "      <td>66</td>\n",
              "      <td>33</td>\n",
              "      <td>Sandy</td>\n",
              "      <td>Barley</td>\n",
              "      <td>17</td>\n",
              "      <td>19</td>\n",
              "      <td>13</td>\n",
              "      <td>17-17-17</td>\n",
              "    </tr>\n",
              "    <tr>\n",
              "      <th>1</th>\n",
              "      <td>31</td>\n",
              "      <td>67</td>\n",
              "      <td>43</td>\n",
              "      <td>Clayey</td>\n",
              "      <td>Paddy</td>\n",
              "      <td>10</td>\n",
              "      <td>0</td>\n",
              "      <td>21</td>\n",
              "      <td>28-28</td>\n",
              "    </tr>\n",
              "    <tr>\n",
              "      <th>2</th>\n",
              "      <td>29</td>\n",
              "      <td>54</td>\n",
              "      <td>36</td>\n",
              "      <td>Black</td>\n",
              "      <td>Oil seeds</td>\n",
              "      <td>17</td>\n",
              "      <td>1</td>\n",
              "      <td>11</td>\n",
              "      <td>20-20</td>\n",
              "    </tr>\n",
              "    <tr>\n",
              "      <th>3</th>\n",
              "      <td>29</td>\n",
              "      <td>57</td>\n",
              "      <td>44</td>\n",
              "      <td>Clayey</td>\n",
              "      <td>Pulses</td>\n",
              "      <td>11</td>\n",
              "      <td>16</td>\n",
              "      <td>35</td>\n",
              "      <td>14-35-14</td>\n",
              "    </tr>\n",
              "    <tr>\n",
              "      <th>4</th>\n",
              "      <td>28</td>\n",
              "      <td>62</td>\n",
              "      <td>59</td>\n",
              "      <td>Loamy</td>\n",
              "      <td>Sugarcane</td>\n",
              "      <td>20</td>\n",
              "      <td>6</td>\n",
              "      <td>16</td>\n",
              "      <td>DAP</td>\n",
              "    </tr>\n",
              "  </tbody>\n",
              "</table>\n",
              "</div>"
            ],
            "text/plain": [
              "   Temparature  Humidity  Moisture Soil Type  Crop Type  Nitrogen  Potassium  \\\n",
              "0           33        66        33     Sandy     Barley        17         19   \n",
              "1           31        67        43    Clayey      Paddy        10          0   \n",
              "2           29        54        36     Black  Oil seeds        17          1   \n",
              "3           29        57        44    Clayey     Pulses        11         16   \n",
              "4           28        62        59     Loamy  Sugarcane        20          6   \n",
              "\n",
              "   Phosphorous Fertilizer Name  \n",
              "0           13        17-17-17  \n",
              "1           21           28-28  \n",
              "2           11           20-20  \n",
              "3           35        14-35-14  \n",
              "4           16             DAP  "
            ]
          },
          "execution_count": 4,
          "metadata": {},
          "output_type": "execute_result"
        }
      ],
      "source": [
        "df.head()"
      ]
    },
    {
      "cell_type": "code",
      "execution_count": 5,
      "metadata": {
        "id": "af36e69f"
      },
      "outputs": [],
      "source": [
        "\n",
        "X = df.drop('Fertilizer Name', axis=1)\n",
        "y = df['Fertilizer Name']"
      ]
    },
    {
      "cell_type": "code",
      "execution_count": 6,
      "metadata": {
        "id": "b67cca18"
      },
      "outputs": [],
      "source": [
        "\n",
        "X_train, X_valid, y_train, y_valid = train_test_split(X, y, train_size=0.8, test_size=0.2,\n",
        "                                                      random_state=0)"
      ]
    },
    {
      "cell_type": "code",
      "execution_count": 7,
      "metadata": {},
      "outputs": [],
      "source": [
        "from sklearn.preprocessing import OneHotEncoder"
      ]
    },
    {
      "cell_type": "code",
      "execution_count": 8,
      "metadata": {
        "id": "35f54fce"
      },
      "outputs": [],
      "source": [
        "\n",
        "categorical_features = ['Soil Type', 'Crop Type']\n",
        "numerical_features = ['Temparature', 'Humidity', 'Moisture', 'Nitrogen', 'Potassium', 'Phosphorous']\n",
        "\n",
        "numerical_transformer = SimpleImputer(strategy='mean')\n",
        "categorical_transformer = Pipeline(steps=[\n",
        "    ('imputer', SimpleImputer(strategy='most_frequent')),\n",
        "    ('onehot', OneHotEncoder(handle_unknown='ignore'))])\n",
        "\n",
        "preprocessor = ColumnTransformer(\n",
        "    transformers=[\n",
        "        ('num', numerical_transformer, numerical_features),\n",
        "        ('cat', categorical_transformer, categorical_features)])"
      ]
    },
    {
      "cell_type": "code",
      "execution_count": null,
      "metadata": {
        "colab": {
          "base_uri": "https://localhost:8080/"
        },
        "id": "IWJSM2LMfgbo",
        "outputId": "8a7f9cf7-c0c8-4941-ab02-be59ab9e606d"
      },
      "outputs": [
        {
          "name": "stdout",
          "output_type": "stream",
          "text": [
            "accuracy score= 0.71\n"
          ]
        }
      ],
      "source": [
        "\n",
        "from sklearn.preprocessing import LabelEncoder\n",
        "\n",
        "\n",
        "le = LabelEncoder()\n",
        "y_train_encoded = le.fit_transform(y_train)\n",
        "y_valid_encoded = le.transform(y_valid)\n",
        "\n",
        "model1=xgboost.XGBClassifier()\n",
        "randpipe=Pipeline(steps=[('preprocessor', preprocessor),\n",
        "                              ('model', model1)])\n",
        "randpipe.fit(X_train,y_train_encoded)\n",
        "preds1=randpipe.predict(X_valid)\n",
        "\n",
        "preds1_decoded = le.inverse_transform(preds1)\n",
        "\n",
        "print(\"accuracy score=\",accuracy_score(y_valid_encoded,preds1))"
      ]
    },
    {
      "cell_type": "code",
      "execution_count": 22,
      "metadata": {
        "colab": {
          "base_uri": "https://localhost:8080/"
        },
        "id": "41ae2272",
        "outputId": "cc70c03a-f8b0-4a2e-83db-3ca08cc55268"
      },
      "outputs": [
        {
          "name": "stdout",
          "output_type": "stream",
          "text": [
            "Prediction for the new data: ['17-17-17']\n"
          ]
        }
      ],
      "source": [
        "\n",
        "new_data = pd.DataFrame({\n",
        "    'Temparature': [30],\n",
        "    'Humidity': [69],\n",
        "    'Moisture': [31],\n",
        "    'Soil Type': ['Black'],\n",
        "    'Crop Type': ['Sugercane'],\n",
        "    'Nitrogen': [15],\n",
        "    'Potassium': [16],\n",
        "    'Phosphorous': [15]\n",
        "})\n",
        "\n",
        "\n",
        "prediction_encoded = randpipe.predict(new_data)\n",
        "\n",
        "prediction = le.inverse_transform(prediction_encoded)\n",
        "\n",
        "print(\"Prediction for the new data:\", prediction)"
      ]
    },
    {
      "cell_type": "code",
      "execution_count": 23,
      "metadata": {},
      "outputs": [],
      "source": [
        "import pickle\n",
        "\n",
        "with open(\"randpipe.pkl\", \"wb\") as f:\n",
        "    pickle.dump(randpipe, f)\n"
      ]
    },
    {
      "cell_type": "code",
      "execution_count": 24,
      "metadata": {},
      "outputs": [
        {
          "name": "stdout",
          "output_type": "stream",
          "text": [
            "✅ LabelEncoder saved successfully as 'fert_label_encoder.pkl'\n",
            "Classes: [np.str_('10-26-26'), np.str_('14-35-14'), np.str_('17-17-17'), np.str_('20-20'), np.str_('28-28'), np.str_('DAP'), np.str_('Urea')]\n",
            "Encoding mapping:\n",
            "  0 -> 10-26-26\n",
            "  1 -> 14-35-14\n",
            "  2 -> 17-17-17\n",
            "  3 -> 20-20\n",
            "  4 -> 28-28\n",
            "  5 -> DAP\n",
            "  6 -> Urea\n"
          ]
        }
      ],
      "source": [
        "import pickle\n",
        "from sklearn.preprocessing import LabelEncoder\n",
        "\n",
        "# These are the exact 7 fertilizer classes from your training data\n",
        "fertilizer_classes = ['10-26-26', '14-35-14', '17-17-17', '20-20', '28-28', 'DAP', 'Urea']\n",
        "\n",
        "# Create and fit the LabelEncoder\n",
        "le_fertilizer = LabelEncoder()\n",
        "le_fertilizer.fit(fertilizer_classes)\n",
        "\n",
        "# Save it\n",
        "with open('fert_label_encoder.pkl', 'wb') as f:\n",
        "    pickle.dump(le_fertilizer, f)\n",
        "\n",
        "print(\"✅ LabelEncoder saved successfully as 'fert_label_encoder.pkl'\")\n",
        "print(f\"Classes: {list(le_fertilizer.classes_)}\")\n",
        "print(f\"Encoding mapping:\")\n",
        "for i, fert in enumerate(le_fertilizer.classes_):\n",
        "    print(f\"  {i} -> {fert}\")"
      ]
    }
  ],
  "metadata": {
    "colab": {
      "provenance": []
    },
    "kernelspec": {
      "display_name": ".venv",
      "language": "python",
      "name": "python3"
    },
    "language_info": {
      "codemirror_mode": {
        "name": "ipython",
        "version": 3
      },
      "file_extension": ".py",
      "mimetype": "text/x-python",
      "name": "python",
      "nbconvert_exporter": "python",
      "pygments_lexer": "ipython3",
      "version": "3.11.9"
    }
  },
  "nbformat": 4,
  "nbformat_minor": 0
}
